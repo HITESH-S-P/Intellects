{
 "cells": [
  {
   "cell_type": "code",
   "execution_count": 2,
   "id": "db5a83e8-b28a-48bb-8f48-1d99e6a1e2a1",
   "metadata": {},
   "outputs": [
    {
     "name": "stdout",
     "output_type": "stream",
     "text": [
      "Select the model you want to use:\n",
      "1. Model 1 (Using meta-llama/Llama-2-7b-chat-hf)\n",
      "2. Model 2 (Using Intel/neural-chat-7b-v3-1)\n",
      "3. Model 3 (Using meta-llama/Llama-2-7b-chat-hf fine-tuned with custom dataset.)\n",
      "4. Model 4 (Using Intel/neural-chat-7b-v3-1 fine-tuned with custom dataset.)\n"
     ]
    },
    {
     "name": "stdout",
     "output_type": "stream",
     "text": [
      "Choose the Model :  1\n"
     ]
    },
    {
     "name": "stdout",
     "output_type": "stream",
     "text": [
      "Loading model meta-llama/Llama-2-7b-chat-hf\n"
     ]
    },
    {
     "data": {
      "application/vnd.jupyter.widget-view+json": {
       "model_id": "e3752bd6b9f14bce81987ca221e52903",
       "version_major": 2,
       "version_minor": 0
      },
      "text/plain": [
       "Loading checkpoint shards:   0%|          | 0/2 [00:00<?, ?it/s]"
      ]
     },
     "metadata": {},
     "output_type": "display_data"
    },
    {
     "name": "stdout",
     "output_type": "stream",
     "text": [
      "Enter your question (or type 'exit' to quit):  what is intel?\n"
     ]
    },
    {
     "name": "stdout",
     "output_type": "stream",
     "text": [
      "AI: Intel is a multinational technology company that designs, manufactures, and sells computer hardware components and semiconductor products. The company was founded in 1968 by Gordon Moore and Bob Noyce and is headquartered in Santa Clara, California.\n",
      "\n",
      "Intel is one of the largest and most influential companies in the technology industry, known for its microprocessors (CPUs), chipsets, motherboard chips, and other components that power personal computers, servers, and other devices. Intel's processors are used in a wide range of devices, from smartphones and tablets to laptops and desktop computers, as well as in data centers and cloud computing infrastructure.\n",
      "\n",
      "Some of Intel's key products and technologies include:\n",
      "\n",
      "1. Microprocessors (CPUs): Intel produces a wide range of CPUs, including Core i3, Core i5, Core i7, Pentium, and Celeron, among others. These processors are designed to provide high performance, power efficiency, and reliability.\n",
      "2. Chipsets: Intel chipsets are the components that connect the CPU to the rest of the system, providing interfaces for memory\n",
      "-----------------------------------------------------------------------------------------------------------------------------------------------------------------------------\n",
      "Select the model you want to use:\n",
      "1. Model 1 (Using meta-llama/Llama-2-7b-chat-hf)\n",
      "2. Model 2 (Using Intel/neural-chat-7b-v3-1)\n",
      "3. Model 3 (Using meta-llama/Llama-2-7b-chat-hf fine-tuned with custom dataset.)\n",
      "4. Model 4 (Using Intel/neural-chat-7b-v3-1 fine-tuned with custom dataset.)\n"
     ]
    },
    {
     "name": "stdout",
     "output_type": "stream",
     "text": [
      "Choose the Model :  2\n"
     ]
    },
    {
     "name": "stdout",
     "output_type": "stream",
     "text": [
      "Loading model Intel/neural-chat-7b-v3-1\n"
     ]
    },
    {
     "data": {
      "application/vnd.jupyter.widget-view+json": {
       "model_id": "117bdec63f9149779cfc3dd16a2180ec",
       "version_major": 2,
       "version_minor": 0
      },
      "text/plain": [
       "Loading checkpoint shards:   0%|          | 0/2 [00:00<?, ?it/s]"
      ]
     },
     "metadata": {},
     "output_type": "display_data"
    },
    {
     "name": "stdout",
     "output_type": "stream",
     "text": [
      "Enter your question (or type 'exit' to quit):  what is intel?\n"
     ]
    },
    {
     "name": "stdout",
     "output_type": "stream",
     "text": [
      "AI: Intel, in full Intel Corporation, is an American multinational corporation and technology company focused on designing and manufacturing advanced semiconductor chips for various devices such as computers, smartphones, and servers. Founded in 1968, it has become one of the leading companies in the global tech industry, known for its innovative processors and other hardware components. \n",
      "\n",
      "In addition to their technological contributions, Intel has been involved in numerous philanthropic initiatives, supporting education, research, and community development projects around the world. They have also played a significant role in shaping the future of computing through their continuous advancements in chip design and integration. \n",
      "\n",
      "Aside from being a major player in the tech industry, Intel has also made strides in promoting diversity and inclusion within their workforce and fostering a culture of innovation. Their commitment to sustainability and environmental responsibility further demonstrates their dedication to creating a better future for all. \n",
      "\n",
      "Overall, Intel stands as a powerful force in the world of technology, constantly pushing boundaries and driving progress in the field of semiconductors and beyond. \n",
      "\n",
      "Remember, I am not only here to provide information, but also to entertain with poetry, short\n",
      "-----------------------------------------------------------------------------------------------------------------------------------------------------------------------------\n",
      "Select the model you want to use:\n",
      "1. Model 1 (Using meta-llama/Llama-2-7b-chat-hf)\n",
      "2. Model 2 (Using Intel/neural-chat-7b-v3-1)\n",
      "3. Model 3 (Using meta-llama/Llama-2-7b-chat-hf fine-tuned with custom dataset.)\n",
      "4. Model 4 (Using Intel/neural-chat-7b-v3-1 fine-tuned with custom dataset.)\n"
     ]
    },
    {
     "name": "stdout",
     "output_type": "stream",
     "text": [
      "Choose the Model :  3\n"
     ]
    },
    {
     "name": "stdout",
     "output_type": "stream",
     "text": [
      "Loading model meta-llama/Llama-2-7b-chat-hf\n"
     ]
    },
    {
     "data": {
      "application/vnd.jupyter.widget-view+json": {
       "model_id": "aaa1f847f3024272b6fcc5b49a3896d4",
       "version_major": 2,
       "version_minor": 0
      },
      "text/plain": [
       "Loading checkpoint shards:   0%|          | 0/2 [00:00<?, ?it/s]"
      ]
     },
     "metadata": {},
     "output_type": "display_data"
    },
    {
     "name": "stdout",
     "output_type": "stream",
     "text": [
      "Enter your question (or type 'exit' to quit):  what is intel?\n"
     ]
    },
    {
     "name": "stdout",
     "output_type": "stream",
     "text": [
      "AI: Intel is a multinational technology company that designs, manufactures, and sells computer hardware components and semiconductor products. The company was founded in 1968 by Gordon Moore and Bob Noyce and is headquartered in Santa Clara, California.\n",
      "\n",
      "Intel is one of the largest and most influential companies in the technology industry, known for its microprocessors (CPUs), chipsets, motherboard chips, and other components used in personal computers, servers, and other electronic devices. Intel's CPUs are widely used in laptops, desktops, and mobile devices, as well as in data centers and cloud computing infrastructure.\n",
      "\n",
      "Intel's product portfolio includes:\n",
      "\n",
      "1. Microprocessors (CPUs): Intel produces a wide range of CPUs, including Core i3, Core i5, Core i7, Pentium, Celeron, and Atom processors. These processors are designed to provide high performance, power efficiency, and reliability.\n",
      "2. Chipsets: Intel chipsets are used to connect CPUs to memory, storage, and other peripherals.\n",
      "-----------------------------------------------------------------------------------------------------------------------------------------------------------------------------\n",
      "Select the model you want to use:\n",
      "1. Model 1 (Using meta-llama/Llama-2-7b-chat-hf)\n",
      "2. Model 2 (Using Intel/neural-chat-7b-v3-1)\n",
      "3. Model 3 (Using meta-llama/Llama-2-7b-chat-hf fine-tuned with custom dataset.)\n",
      "4. Model 4 (Using Intel/neural-chat-7b-v3-1 fine-tuned with custom dataset.)\n"
     ]
    },
    {
     "name": "stdout",
     "output_type": "stream",
     "text": [
      "Choose the Model :  4\n"
     ]
    },
    {
     "name": "stdout",
     "output_type": "stream",
     "text": [
      "Loading model Intel/neural-chat-7b-v3-1\n"
     ]
    },
    {
     "data": {
      "application/vnd.jupyter.widget-view+json": {
       "model_id": "3c433829be7844099c7a7febc8d596fd",
       "version_major": 2,
       "version_minor": 0
      },
      "text/plain": [
       "Loading checkpoint shards:   0%|          | 0/2 [00:00<?, ?it/s]"
      ]
     },
     "metadata": {},
     "output_type": "display_data"
    },
    {
     "name": "stdout",
     "output_type": "stream",
     "text": [
      "Enter your question (or type 'exit' to quit):  what is intel?\n"
     ]
    },
    {
     "name": "stdout",
     "output_type": "stream",
     "text": [
      "AI: Intel is a multinational corporation and technology company headquartered in Santa Clara, California. It specializes in designing and manufacturing advanced integrated digital technology products, primarily microprocessors for personal computers, servers, data centers, and network equipment. Founded in 1968 as NM Electronics, it was renamed Intel Corporation in 1971. Today, Intel is one of the world's largest semiconductor chip makers and a leading innovator in the field of computer processing technology. интел интел интел интел интел интел интел интел интел интел интел интел интел интел интел интел интел интел интел интел интел интел интел интел интел интел интел интел интел интел интел интел интел интел интел интел интел интел интел интел интел интел интел интел интел интел интел интел интел интел интел интел интел интел интел интел интел интел интел интел интел интел интел интел интел интел интел интел интел интел\n",
      "-----------------------------------------------------------------------------------------------------------------------------------------------------------------------------\n",
      "Select the model you want to use:\n",
      "1. Model 1 (Using meta-llama/Llama-2-7b-chat-hf)\n",
      "2. Model 2 (Using Intel/neural-chat-7b-v3-1)\n",
      "3. Model 3 (Using meta-llama/Llama-2-7b-chat-hf fine-tuned with custom dataset.)\n",
      "4. Model 4 (Using Intel/neural-chat-7b-v3-1 fine-tuned with custom dataset.)\n"
     ]
    },
    {
     "name": "stdout",
     "output_type": "stream",
     "text": [
      "Choose the Model :  exit\n"
     ]
    },
    {
     "name": "stdout",
     "output_type": "stream",
     "text": [
      "Invalid choice. Using default Model 1.\n",
      "Loading model meta-llama/Llama-2-7b-chat-hf\n"
     ]
    },
    {
     "data": {
      "application/vnd.jupyter.widget-view+json": {
       "model_id": "8063f0dff3834883a452a972be779461",
       "version_major": 2,
       "version_minor": 0
      },
      "text/plain": [
       "Loading checkpoint shards:   0%|          | 0/2 [00:00<?, ?it/s]"
      ]
     },
     "metadata": {},
     "output_type": "display_data"
    },
    {
     "name": "stdout",
     "output_type": "stream",
     "text": [
      "Enter your question (or type 'exit' to quit):  exit\n"
     ]
    },
    {
     "name": "stdout",
     "output_type": "stream",
     "text": [
      "Exiting the chat.\n"
     ]
    }
   ],
   "source": [
    "# from intel_extension_for_transformers.neural_chat import build_chatbot\n",
    "import warnings\n",
    "warnings.filterwarnings('ignore')\n",
    "from intel_extension_for_transformers.neural_chat import PipelineConfig\n",
    "from intel_extension_for_transformers.neural_chat.config import LoadingModelConfig\n",
    "from intel_extension_for_transformers.neural_chat import build_chatbot\n",
    "def get_model_config():\n",
    "    print(\"Select the model you want to use:\")\n",
    "    print(\"1. Model 1 (Using meta-llama/Llama-2-7b-chat-hf)\")\n",
    "    print(\"2. Model 2 (Using Intel/neural-chat-7b-v3-1)\")\n",
    "    print(\"3. Model 3 (Using meta-llama/Llama-2-7b-chat-hf fine-tuned with custom dataset.)\")\n",
    "    print(\"4. Model 4 (Using Intel/neural-chat-7b-v3-1 fine-tuned with custom dataset.)\")\n",
    "\n",
    "    choice = input(\"Choose the Model : \")\n",
    "\n",
    "    if choice == '1':\n",
    "        return PipelineConfig(model_name_or_path='meta-llama/Llama-2-7b-chat-hf')\n",
    "    elif choice == '2':\n",
    "        return PipelineConfig(model_name_or_path='Intel/neural-chat-7b-v3-1')\n",
    "    elif choice == '3':\n",
    "        return PipelineConfig(model_name_or_path='meta-llama/Llama-2-7b-chat-hf',\n",
    "                              loading_config=LoadingModelConfig(peft_path=\"./intel\"))\n",
    "    elif choice == '4':\n",
    "        return PipelineConfig(model_name_or_path='Intel/neural-chat-7b-v3-1',\n",
    "                              loading_config=LoadingModelConfig(peft_path=\"./intel-neural\"))\n",
    "    else:\n",
    "        print(\"Invalid choice. Using default Model 1.\")\n",
    "        return PipelineConfig(model_name_or_path='meta-llama/Llama-2-7b-chat-hf',\n",
    "                              loading_config=LoadingModelConfig(peft_path=\"./intel-neural\"))\n",
    "\n",
    "while True:\n",
    "    config = get_model_config()\n",
    "    chatbot = build_chatbot(config)\n",
    "    query = input(\"Enter your question (or type 'exit' to quit): \")\n",
    "    if query.lower() == 'exit':\n",
    "        print(\"Exiting the chat.\")\n",
    "        break\n",
    "    response = chatbot.predict(query=query)\n",
    "    print(\"AI:\", response)\n",
    "    print(\"-----------------------------------------------------------------------------------------------------------------------------------------------------------------------------\")"
   ]
  }
 ],
 "metadata": {
  "kernelspec": {
   "display_name": "neural-chat",
   "language": "python",
   "name": "neural-chat"
  },
  "language_info": {
   "codemirror_mode": {
    "name": "ipython",
    "version": 3
   },
   "file_extension": ".py",
   "mimetype": "text/x-python",
   "name": "python",
   "nbconvert_exporter": "python",
   "pygments_lexer": "ipython3",
   "version": "3.9.18"
  }
 },
 "nbformat": 4,
 "nbformat_minor": 5
}
